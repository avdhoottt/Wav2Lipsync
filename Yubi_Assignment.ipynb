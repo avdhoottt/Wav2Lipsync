{
  "cells": [
    {
      "cell_type": "markdown",
      "metadata": {
        "id": "vSQFs_G8caeE"
      },
      "source": [
        "# Wav2Lip Lip sync Video assignment"
      ]
    },
    {
      "cell_type": "markdown",
      "metadata": {
        "id": "Mcp-hFtAjxyd"
      },
      "source": [
        "Connect to Google drive where the models and input files are stored"
      ]
    },
    {
      "cell_type": "code",
      "execution_count": 1,
      "metadata": {
        "colab": {
          "base_uri": "https://localhost:8080/"
        },
        "id": "qciH4PsUazL_",
        "outputId": "4482d0b8-e961-489d-8a13-ffda9b2f84c3"
      },
      "outputs": [
        {
          "name": "stdout",
          "output_type": "stream",
          "text": [
            "Drive already mounted at /content/gdrive; to attempt to forcibly remount, call drive.mount(\"/content/gdrive\", force_remount=True).\n"
          ]
        }
      ],
      "source": [
        "from google.colab import drive\n",
        "drive.mount('/content/gdrive')"
      ]
    },
    {
      "cell_type": "markdown",
      "metadata": {
        "id": "yJ5taGmPcWV-"
      },
      "source": [
        "Clone the Wav2Lip Repo"
      ]
    },
    {
      "cell_type": "code",
      "execution_count": 3,
      "metadata": {
        "colab": {
          "base_uri": "https://localhost:8080/"
        },
        "id": "P3LihClHbUd3",
        "outputId": "cd79f102-e29c-41aa-8387-89d4e29ab95b"
      },
      "outputs": [
        {
          "name": "stdout",
          "output_type": "stream",
          "text": [
            "Cloning into 'Wav2Lip'...\n",
            "remote: Enumerating objects: 403, done.\u001b[K\n",
            "remote: Counting objects: 100% (18/18), done.\u001b[K\n",
            "remote: Compressing objects: 100% (17/17), done.\u001b[K\n",
            "remote: Total 403 (delta 14), reused 1 (delta 1), pack-reused 385 (from 4)\u001b[K\n",
            "Receiving objects: 100% (403/403), 540.95 KiB | 12.29 MiB/s, done.\n",
            "Resolving deltas: 100% (224/224), done.\n"
          ]
        }
      ],
      "source": [
        "!git clone https://github.com/Rudrabha/Wav2Lip.git"
      ]
    },
    {
      "cell_type": "code",
      "execution_count": 4,
      "metadata": {
        "colab": {
          "base_uri": "https://localhost:8080/"
        },
        "id": "y-19nzx8SamJ",
        "outputId": "06405693-a18e-4700-e83a-32976830c7b1"
      },
      "outputs": [
        {
          "name": "stdout",
          "output_type": "stream",
          "text": [
            "audio.mp3      audiotry2.mp3  face.png\t  video.mp4\t   wav2lip.pth\n",
            "audiotry1.mp3  face.gif       video2.mp4  wav2lip_gan.pth\n"
          ]
        }
      ],
      "source": [
        "!ls /content/gdrive/MyDrive/Wav2Lip"
      ]
    },
    {
      "cell_type": "markdown",
      "metadata": {
        "id": "KT1nQmQTkAXq"
      },
      "source": [
        "## Copy the wav2Lip models in the `checkpoints` folder"
      ]
    },
    {
      "cell_type": "code",
      "execution_count": 5,
      "metadata": {
        "id": "YjzMPy_Sb0AI"
      },
      "outputs": [],
      "source": [
        "!cp -ri \"/content/gdrive/MyDrive/Wav2Lip/wav2lip.pth\" \"/content/gdrive/MyDrive/Wav2Lip/wav2lip_gan.pth\" /content/Wav2Lip/checkpoints/"
      ]
    },
    {
      "cell_type": "markdown",
      "metadata": {
        "id": "aWTaOS3ncFt6"
      },
      "source": [
        "# Get the pre-requisites"
      ]
    },
    {
      "cell_type": "code",
      "execution_count": 6,
      "metadata": {
        "colab": {
          "base_uri": "https://localhost:8080/"
        },
        "id": "Ooh28vw-Uvd3",
        "outputId": "1963ae8d-dc41-40a2-9d09-f1b2288edc97"
      },
      "outputs": [
        {
          "name": "stdout",
          "output_type": "stream",
          "text": [
            "Found existing installation: tensorflow 2.18.0\n",
            "Uninstalling tensorflow-2.18.0:\n",
            "  Would remove:\n",
            "    /usr/local/bin/import_pb_to_tensorboard\n",
            "    /usr/local/bin/saved_model_cli\n",
            "    /usr/local/bin/tensorboard\n",
            "    /usr/local/bin/tf_upgrade_v2\n",
            "    /usr/local/bin/tflite_convert\n",
            "    /usr/local/bin/toco\n",
            "    /usr/local/bin/toco_from_protos\n",
            "    /usr/local/lib/python3.11/dist-packages/tensorflow-2.18.0.dist-info/*\n",
            "    /usr/local/lib/python3.11/dist-packages/tensorflow/*\n",
            "Proceed (Y/n)? y\n",
            "  Successfully uninstalled tensorflow-2.18.0\n",
            "\u001b[33mWARNING: Skipping tensorflow-gpu as it is not installed.\u001b[0m\u001b[33m\n",
            "\u001b[0m"
          ]
        }
      ],
      "source": [
        "!pip uninstall tensorflow tensorflow-gpu"
      ]
    },
    {
      "cell_type": "code",
      "execution_count": 7,
      "metadata": {
        "colab": {
          "base_uri": "https://localhost:8080/"
        },
        "id": "_VjKk_MGvTa5",
        "outputId": "18592bd0-78d7-40e5-da50-d7ec0fda2268"
      },
      "outputs": [
        {
          "name": "stdout",
          "output_type": "stream",
          "text": [
            "Found existing installation: librosa 0.10.2.post1\n",
            "Uninstalling librosa-0.10.2.post1:\n",
            "  Successfully uninstalled librosa-0.10.2.post1\n"
          ]
        }
      ],
      "source": [
        "# Not necessary\n",
        "pip uninstall --yes librosa"
      ]
    },
    {
      "cell_type": "markdown",
      "metadata": {
        "id": "rvXVS0t5kQq8"
      },
      "source": [
        "## Change the requirements.txt file to this:\n",
        "```\n",
        "librosa==0.9.1\n",
        "numpy\n",
        "torch\n",
        "torchvision\n",
        "tqdm\n",
        "numba\n",
        "```"
      ]
    },
    {
      "cell_type": "code",
      "execution_count": null,
      "metadata": {
        "id": "49dCYlLdcK2D"
      },
      "outputs": [],
      "source": [
        "!cd Wav2Lip && pip install -r requirements.txt"
      ]
    },
    {
      "cell_type": "markdown",
      "metadata": {
        "id": "uXFcuKvHkc8F"
      },
      "source": [
        "## Get the pre-trained Face detection model"
      ]
    },
    {
      "cell_type": "code",
      "execution_count": 9,
      "metadata": {
        "colab": {
          "base_uri": "https://localhost:8080/"
        },
        "id": "ey_bN4M6X_95",
        "outputId": "9494a526-46e5-40e5-966b-3d0089dce545"
      },
      "outputs": [
        {
          "name": "stdout",
          "output_type": "stream",
          "text": [
            "--2025-02-26 09:08:34--  https://www.adrianbulat.com/downloads/python-fan/s3fd-619a316812.pth\n",
            "Resolving www.adrianbulat.com (www.adrianbulat.com)... 45.136.29.207\n",
            "Connecting to www.adrianbulat.com (www.adrianbulat.com)|45.136.29.207|:443... connected.\n",
            "HTTP request sent, awaiting response... 200 OK\n",
            "Length: 89843225 (86M) [application/octet-stream]\n",
            "Saving to: ‘Wav2Lip/face_detection/detection/sfd/s3fd.pth’\n",
            "\n",
            "Wav2Lip/face_detect 100%[===================>]  85.68M  18.7MB/s    in 5.4s    \n",
            "\n",
            "2025-02-26 09:08:41 (15.9 MB/s) - ‘Wav2Lip/face_detection/detection/sfd/s3fd.pth’ saved [89843225/89843225]\n",
            "\n"
          ]
        }
      ],
      "source": [
        "!wget \"https://www.adrianbulat.com/downloads/python-fan/s3fd-619a316812.pth\" -O \"Wav2Lip/face_detection/detection/sfd/s3fd.pth\""
      ]
    },
    {
      "cell_type": "markdown",
      "metadata": {
        "id": "qdIQfY2Kswcb"
      },
      "source": [
        "# The following code will generated a audio file from the given script. It uses the Google Text-to-Speech (gTTS) library for the conversion. It'll save the file in the `sample_data` folder"
      ]
    },
    {
      "cell_type": "code",
      "execution_count": null,
      "metadata": {
        "id": "6NmOAH6HTZF9"
      },
      "outputs": [],
      "source": [
        "!pip install -q gtts\n",
        "\n",
        "from gtts import gTTS\n",
        "import os\n",
        "import IPython.display as ipd\n",
        "\n",
        "script = \"\"\"\n",
        "Namaste Mathangi! My name is Anika, and I'm here to guide you through managing your credit card dues.\n",
        "Mathangi, as of today, your credit card bill shows an amount due of INR 5,053 which needs to be paid by 31st December 2024\n",
        "Missing this payment could lead to two significant consequences:\n",
        "First, a late fee will be added to your outstanding balance.\n",
        "Second, your credit score will be negatively impacted, which may affect your future borrowing ability.\n",
        "Make your payment by clicking the link here... Pay through UPI or bank transfer.\n",
        "Thank you!\n",
        "\"\"\"\n",
        "\n",
        "audio_output_path = \"sample_data/audio2.mp3\"  # We can change the path or the audio filename here.\n",
        "\n",
        "print(\"Generating TTS audio with Indian accent...\")\n",
        "tts = gTTS(text=script, lang='en', tld='co.in', slow=False)\n",
        "\n",
        "tts.save(audio_output_path)\n",
        "print(f\"Audio saved to: {audio_output_path}\")\n",
        "\n",
        "print(\"Playing the generated audio:\")\n",
        "ipd.display(ipd.Audio(audio_output_path))"
      ]
    },
    {
      "cell_type": "code",
      "execution_count": 11,
      "metadata": {
        "colab": {
          "base_uri": "https://localhost:8080/"
        },
        "id": "2cexLP7RTgNG",
        "outputId": "2a09e1ab-f66e-4957-e737-612d5de550c7"
      },
      "outputs": [
        {
          "name": "stdout",
          "output_type": "stream",
          "text": [
            "/content/sample_data/audio2.mp3\n"
          ]
        }
      ],
      "source": [
        "!find /content -name \"audio2.mp3\" # Test to where the audio file is located"
      ]
    },
    {
      "cell_type": "markdown",
      "metadata": {
        "id": "vj4r-9a8lMT2"
      },
      "source": [
        "## We need a video as a input, below we are copying it from our Google drive to the `sample_data` folder"
      ]
    },
    {
      "cell_type": "code",
      "execution_count": 13,
      "metadata": {
        "colab": {
          "base_uri": "https://localhost:8080/"
        },
        "id": "KoVGMtjRZfeR",
        "outputId": "d4062c39-c2dd-4073-aab7-a93ce3ceda69"
      },
      "outputs": [
        {
          "name": "stdout",
          "output_type": "stream",
          "text": [
            "anscombe.json  california_housing_test.csv   mnist_train_small.csv\n",
            "audio2.mp3     california_housing_train.csv  README.md\n",
            "audio.mp3      mnist_test.csv\t\t     video.mp4\n"
          ]
        }
      ],
      "source": [
        "!cp \"/content/gdrive/My Drive/Wav2Lip/video.mp4\" \"/content/gdrive/My Drive/Wav2Lip/audio.mp3\" sample_data/\n",
        "!ls sample_data/"
      ]
    },
    {
      "cell_type": "markdown",
      "metadata": {
        "id": "94Na-v08lXmz"
      },
      "source": [
        "## Running and generating the video"
      ]
    },
    {
      "cell_type": "markdown",
      "metadata": {
        "id": "s3WJyCj-lb3g"
      },
      "source": [
        "### When we use the Wav2Lip model"
      ]
    },
    {
      "cell_type": "code",
      "execution_count": null,
      "metadata": {
        "id": "9I-vm8VLjtTn"
      },
      "outputs": [],
      "source": [
        "!cd Wav2Lip && python inference.py --checkpoint_path checkpoints/wav2lip.pth --face \"../sample_data/video.mp4\" --audio \"../sample_data/audio2.mp3\""
      ]
    },
    {
      "cell_type": "markdown",
      "metadata": {
        "id": "UbFpQqPnli7x"
      },
      "source": [
        "### When we use the Wav2Lip + GAN"
      ]
    },
    {
      "cell_type": "code",
      "execution_count": null,
      "metadata": {
        "id": "jR5utmDMcSZY"
      },
      "outputs": [],
      "source": [
        "!cd Wav2Lip && python inference.py --checkpoint_path checkpoints/wav2lip_gan.pth --face \"../sample_data/video.mp4\" --audio \"../sample_data/audio2.mp3\""
      ]
    },
    {
      "cell_type": "markdown",
      "metadata": {
        "id": "0vDKzpzHnF0a"
      },
      "source": [
        "## Push code to GitHub"
      ]
    },
    {
      "cell_type": "code",
      "execution_count": 19,
      "metadata": {
        "id": "KjkT-2CFo9Hz"
      },
      "outputs": [],
      "source": [
        "# Delete the repository folder\n",
        "!rm -rf /content/Wav2Lipsync"
      ]
    },
    {
      "cell_type": "code",
      "execution_count": 21,
      "metadata": {
        "colab": {
          "base_uri": "https://localhost:8080/"
        },
        "id": "CPaNu4eUvthV",
        "outputId": "743b18d3-08ce-430f-ca77-f177074a1276"
      },
      "outputs": [
        {
          "name": "stdout",
          "output_type": "stream",
          "text": [
            "Mounted at /content/drive\n"
          ]
        }
      ],
      "source": [
        "from google.colab import drive\n",
        "drive.mount('/content/drive')\n",
        "\n",
        "# Create a project directory in your Drive\n",
        "!mkdir -p \"/content/drive/MyDrive/Wav2Lip_Project\"\n",
        "\n",
        "# Copy your important files to Drive\n",
        "!cp -r /content/Wav2Lip/ \"/content/drive/MyDrive/Wav2Lip_Project/\" 2>/dev/null || echo \"No result videos found\"\n",
        "!cp -r /content/sample_data/ \"/content/drive/MyDrive/Wav2Lip_Project/\" 2>/dev/null || echo \"No audio files found\"\n",
        "\n",
        "# Create a README file\n",
        "!echo \"# Wav2Lip Implementation\\n\\nThis repository contains my implementation of the Wav2Lip model for lip-syncing.\" > \"/content/drive/MyDrive/Wav2Lip_Project/README.md\""
      ]
    },
    {
      "cell_type": "markdown",
      "metadata": {
        "id": "c8QwoJ6Qq4tj"
      },
      "source": []
    }
  ],
  "metadata": {
    "accelerator": "GPU",
    "colab": {
      "gpuType": "T4",
      "provenance": []
    },
    "kernelspec": {
      "display_name": "Python 3",
      "name": "python3"
    }
  },
  "nbformat": 4,
  "nbformat_minor": 0
}
